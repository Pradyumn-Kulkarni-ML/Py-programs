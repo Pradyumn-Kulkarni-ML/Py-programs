{
 "cells": [
  {
   "cell_type": "code",
   "execution_count": 11,
   "id": "9229c362-1135-4284-b4e9-2852d12299ba",
   "metadata": {},
   "outputs": [
    {
     "name": "stdout",
     "output_type": "stream",
     "text": [
      "7.0 is the missing element\n"
     ]
    }
   ],
   "source": [
    "n=[1,2,3,4,5,6,8]\n",
    "def missing(n):\n",
    "    sum=0\n",
    "    for x in n:\n",
    "        sum=sum+x\n",
    "    leng = len(n)+1\n",
    "    leng = (leng*(leng+1))/2\n",
    "    miss = leng-sum\n",
    "    print((miss),'is the missing element')\n",
    "missing(n)\n",
    "\n",
    "#missing in an array"
   ]
  },
  {
   "cell_type": "code",
   "execution_count": 21,
   "id": "530194e3-3131-4eb8-8759-e154c3bd72bc",
   "metadata": {},
   "outputs": [
    {
     "name": "stdout",
     "output_type": "stream",
     "text": [
      "dupicate is present\n",
      "dupicate is present\n"
     ]
    }
   ],
   "source": [
    "n=[1,2,3,4,4,5,6]\n",
    "for x in range(len(n)):\n",
    "    for y in range(len(n)):\n",
    "        if(y!=x):\n",
    "            if n[y] == n[x]:\n",
    "                print('dupicate is present')\n",
    "                break\n",
    "        else:\n",
    "            continue\n",
    "\n",
    "#duplicates"
   ]
  },
  {
   "cell_type": "code",
   "execution_count": 27,
   "id": "da81af79-183f-4d43-9fde-1973cfdebd24",
   "metadata": {},
   "outputs": [
    {
     "name": "stdout",
     "output_type": "stream",
     "text": [
      "the parenthesis are correct\n"
     ]
    }
   ],
   "source": [
    "n=\"}{{[]}}{\"\n",
    "open1=[]\n",
    "close1=[]\n",
    "\n",
    "for x in range(len(n)):\n",
    "    if n[x] == '{' or n[x] == '[' or n[x] == '(' :\n",
    "        open1.append(n[x])\n",
    "    else:\n",
    "        close1.append(n[x])\n",
    "if len(open1) == len(close1):\n",
    "    print(\"the parenthesis are correct\")\n",
    "else:\n",
    "    print(\"it is not\")"
   ]
  },
  {
   "cell_type": "code",
   "execution_count": 1,
   "id": "3c85af7a-b339-4a7e-bc7a-5134434f5617",
   "metadata": {},
   "outputs": [
    {
     "name": "stdout",
     "output_type": "stream",
     "text": [
      "e m   s i   i h t a m "
     ]
    }
   ],
   "source": [
    "n = \"mathi is me\"\n",
    "length = len(n)\n",
    "for x in range(length-1,-1,-1):\n",
    "    print(n[x],end=\" \")\n",
    "\n",
    "\n",
    "#reverse a string"
   ]
  },
  {
   "cell_type": "code",
   "execution_count": 7,
   "id": "4908b707-7e8f-4ca1-8a41-ed5ef97b1d21",
   "metadata": {},
   "outputs": [
    {
     "name": "stdout",
     "output_type": "stream",
     "text": [
      "2\n",
      "3\n",
      "7\n"
     ]
    }
   ],
   "source": [
    "n = [1,2,3,7,5]\n",
    "m = [2,3,6,7,8]\n",
    "\n",
    "for x in range(len(n)):\n",
    "    for y in range(len(m)):\n",
    "        if n[x] == m[y]:\n",
    "            print(n[x])\n",
    "            \n",
    "#finding intersection of an array"
   ]
  },
  {
   "cell_type": "markdown",
   "id": "23c3d455-6f50-49fd-9770-500d37151dc5",
   "metadata": {},
   "source": [
    "###### n = int(input(\"enter the size\"))\n",
    "arrr = []\n",
    "for x in range(n):\n",
    "    arrr.append(int(input()))\n",
    "for y in range(n):\n",
    "    if arrr[y] == 0:\n",
    "        poped=arrr.pop(y)\n",
    "        arrr.append(poped)\n",
    "print(arrr)\n",
    "\n",
    "#shifting all elements to the end"
   ]
  },
  {
   "cell_type": "code",
   "execution_count": 24,
   "id": "d3c2000b-b97e-4549-a0d6-5eed7cdf2a62",
   "metadata": {},
   "outputs": [
    {
     "name": "stdin",
     "output_type": "stream",
     "text": [
      "enter a number 28\n"
     ]
    },
    {
     "name": "stdout",
     "output_type": "stream",
     "text": [
      "the number  28 is perfect\n",
      "[1, 2, 4, 7, 14]\n"
     ]
    }
   ],
   "source": [
    "n =  int(input(\"enter a number\"))\n",
    "\n",
    "mid = int(n/2)\n",
    "factors =[]\n",
    "for x in range(1,mid+1):\n",
    "    if n%x==0:\n",
    "        factors.append(int(x))\n",
    "sum = 0\n",
    "for z in range(len(factors)):\n",
    "    sum = sum + factors[z]\n",
    "\n",
    "if sum == n:\n",
    "    print(\"the number \",(n),\"is perfect\")\n",
    "print(factors)"
   ]
  },
  {
   "cell_type": "code",
   "execution_count": 32,
   "id": "dd6de5c0-8099-4f27-a038-9deff472deb4",
   "metadata": {},
   "outputs": [
    {
     "name": "stdin",
     "output_type": "stream",
     "text": [
      "enter a number 271\n"
     ]
    },
    {
     "name": "stdout",
     "output_type": "stream",
     "text": [
      "a prime number\n"
     ]
    }
   ],
   "source": [
    "n = int(input(\"enter a number\"))\n",
    "count = 0\n",
    "for x in range(1,n+1):\n",
    "    if n%x == 0:\n",
    "        count = count + 1\n",
    "if count == 2:\n",
    "    print(\"a prime number\")\n",
    "\n",
    "#check if its a prime number"
   ]
  },
  {
   "cell_type": "code",
   "execution_count": null,
   "id": "f8ca5f6d-36e2-41e4-a5e0-99cf73e44879",
   "metadata": {},
   "outputs": [],
   "source": []
  }
 ],
 "metadata": {
  "kernelspec": {
   "display_name": "Python 3 (ipykernel)",
   "language": "python",
   "name": "python3"
  },
  "language_info": {
   "codemirror_mode": {
    "name": "ipython",
    "version": 3
   },
   "file_extension": ".py",
   "mimetype": "text/x-python",
   "name": "python",
   "nbconvert_exporter": "python",
   "pygments_lexer": "ipython3",
   "version": "3.12.3"
  }
 },
 "nbformat": 4,
 "nbformat_minor": 5
}
